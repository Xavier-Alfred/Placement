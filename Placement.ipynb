{
  "nbformat": 4,
  "nbformat_minor": 0,
  "metadata": {
    "colab": {
      "name": "Placement.ipynb",
      "provenance": [],
      "authorship_tag": "ABX9TyO0z9IiC0rRCnPZjJ+JwM94",
      "include_colab_link": true
    },
    "kernelspec": {
      "name": "python3",
      "display_name": "Python 3"
    },
    "language_info": {
      "name": "python"
    }
  },
  "cells": [
    {
      "cell_type": "markdown",
      "metadata": {
        "id": "view-in-github",
        "colab_type": "text"
      },
      "source": [
        "<a href=\"https://colab.research.google.com/github/Xavier-Alfred/Placement/blob/main/Placement.ipynb\" target=\"_parent\"><img src=\"https://colab.research.google.com/assets/colab-badge.svg\" alt=\"Open In Colab\"/></a>"
      ]
    },
    {
      "cell_type": "code",
      "execution_count": null,
      "metadata": {
        "colab": {
          "base_uri": "https://localhost:8080/"
        },
        "id": "WcP2Deivcmff",
        "outputId": "09f8a287-1805-483b-bc38-5981fab78e6b"
      },
      "outputs": [
        {
          "output_type": "stream",
          "name": "stdout",
          "text": [
            "55\n"
          ]
        }
      ],
      "source": [
        "#sum of squares\n",
        "\n",
        "def sqsum(n):\n",
        "  sum=0\n",
        "  for i in range(1,n+1):\n",
        "    sum = sum+(i*i)\n",
        "  print(sum)\n",
        "\n",
        "n = 5\n",
        "sqsum(n)"
      ]
    },
    {
      "cell_type": "code",
      "source": [
        "#swap first and last item\n",
        "\n",
        "def swap(ele):\n",
        "  cnt = len(ele)\n",
        "  temp = ele[0]\n",
        "  ele[0] = ele[cnt-1]\n",
        "  ele[cnt-1] = temp\n",
        "  return ele\n",
        "\n",
        "newList = [12, 35, 9, 56, 24] \n",
        "\n",
        "print(swap(newList))\n"
      ],
      "metadata": {
        "colab": {
          "base_uri": "https://localhost:8080/"
        },
        "id": "BSPz_0-Zf2a0",
        "outputId": "9a19e1b7-0088-4026-b0ca-22d7b64453cb"
      },
      "execution_count": null,
      "outputs": [
        {
          "output_type": "stream",
          "name": "stdout",
          "text": [
            "[24, 35, 9, 56, 12]\n"
          ]
        }
      ]
    },
    {
      "cell_type": "code",
      "source": [
        "#find the smallest number\n",
        "\n",
        "def small(ele):\n",
        "  ele.sort()\n",
        "  print(\"Smallest element is:\", *ele[:1])\n",
        "\n",
        "newList = [12, 35, 9, 56, 24] \n",
        "\n",
        "small(newList)\n"
      ],
      "metadata": {
        "colab": {
          "base_uri": "https://localhost:8080/"
        },
        "id": "pDf8bVaGgirv",
        "outputId": "427128bb-2f7a-4c1a-f57f-d324058e3e3e"
      },
      "execution_count": null,
      "outputs": [
        {
          "output_type": "stream",
          "name": "stdout",
          "text": [
            "Smallest element is: 9\n"
          ]
        }
      ]
    },
    {
      "cell_type": "code",
      "source": [
        "#print odd and even\n",
        "\n",
        "def even(ele):\n",
        "  size=len(ele)\n",
        "  for i in range(0,size):\n",
        "    if(ele[i]%2==0):\n",
        "      print(ele[i])\n",
        "\n",
        "\n",
        "def odd(ele):\n",
        "  size=len(ele)\n",
        "  for i in range(0,size):\n",
        "    if(ele[i]%2!=0):\n",
        "      print(ele[i])\n",
        "\n",
        "newList = [12, 35, 9, 56, 24] \n",
        "newList.sort()\n",
        "\n",
        "even(newList)\n",
        "odd(newList)"
      ],
      "metadata": {
        "colab": {
          "base_uri": "https://localhost:8080/"
        },
        "id": "ozZJ6Ed2g_Xe",
        "outputId": "c4c7ad3e-cede-423a-fa0e-fd81fd02ec16"
      },
      "execution_count": null,
      "outputs": [
        {
          "output_type": "stream",
          "name": "stdout",
          "text": [
            "12\n",
            "24\n",
            "56\n",
            "9\n",
            "35\n"
          ]
        }
      ]
    },
    {
      "cell_type": "code",
      "source": [
        "#print range of negative numbers given range\n",
        "def neg(start,end):\n",
        " \n",
        "  if(end<0):\n",
        "     for i in range(end, start):\n",
        "       print(i)\n",
        "  else:\n",
        "    for i in range(start, end+1):\n",
        "      if i < 0:\n",
        "        print(i)\n",
        "\n",
        "start = -1\n",
        "end = -9\n",
        "neg(start,end)\n",
        "print(\"\\n\")\n",
        "neg(-8,4)\n"
      ],
      "metadata": {
        "colab": {
          "base_uri": "https://localhost:8080/"
        },
        "id": "AR4iknr2h4yU",
        "outputId": "e5047a25-d2d0-4a11-b51a-527510bcf2dd"
      },
      "execution_count": null,
      "outputs": [
        {
          "output_type": "stream",
          "name": "stdout",
          "text": [
            "-9\n",
            "-8\n",
            "-7\n",
            "-6\n",
            "-5\n",
            "-4\n",
            "-3\n",
            "-2\n",
            "\n",
            "\n",
            "-8\n",
            "-7\n",
            "-6\n",
            "-5\n",
            "-4\n",
            "-3\n",
            "-2\n",
            "-1\n"
          ]
        }
      ]
    },
    {
      "cell_type": "code",
      "source": [
        "#reverse a string and palindrome\n",
        "def isPalindrome(s):\n",
        "  return s == s[::-1]\n",
        "\n",
        "s=\"Xavier\"\n",
        "print(s[::-1])\n",
        "ans=isPalindrome(s)\n",
        "print(ans)"
      ],
      "metadata": {
        "colab": {
          "base_uri": "https://localhost:8080/"
        },
        "id": "jGYB2SmJjk2U",
        "outputId": "3a5a7273-1982-4096-aa97-8c60a558bcba"
      },
      "execution_count": null,
      "outputs": [
        {
          "output_type": "stream",
          "name": "stdout",
          "text": [
            "reivaX\n",
            "False\n"
          ]
        }
      ]
    },
    {
      "cell_type": "code",
      "source": [
        "#print even characters\n",
        "def print_word(ele):\n",
        "  ele = ele.split(' ')\n",
        "  for word in ele:\n",
        "    if(len(word)%2==0):\n",
        "      print(word)\n",
        "\n",
        "s = \"Hi I am Xavier\"\n",
        "print_word(s)"
      ],
      "metadata": {
        "colab": {
          "base_uri": "https://localhost:8080/"
        },
        "id": "pXlqTk4WkMw2",
        "outputId": "24efcf93-674c-43c4-fb77-528f45ab52e7"
      },
      "execution_count": null,
      "outputs": [
        {
          "output_type": "stream",
          "name": "stdout",
          "text": [
            "Hi\n",
            "am\n",
            "Xavier\n"
          ]
        }
      ]
    },
    {
      "cell_type": "code",
      "source": [
        "#convert 12 to 24\n",
        "def convert(str1):\n",
        "  if(str1[-2:]==\"AM\" and str1[:2]==\"12\"):\n",
        "    return \"00\" + str1[2:-2]\n",
        "  elif str1[-2:] == \"AM\":\n",
        "    return str1[0:8]\n",
        "  \n",
        "  else:\n",
        "    return str(int(str1[:2]) + 12) + str1[2:8]\n",
        "\n",
        "print(convert(\"08:05:45 AM\"))"
      ],
      "metadata": {
        "colab": {
          "base_uri": "https://localhost:8080/"
        },
        "id": "TkkiasNck_2E",
        "outputId": "bb94953a-0e18-4da5-c5a3-1680a0212aab"
      },
      "execution_count": null,
      "outputs": [
        {
          "output_type": "stream",
          "name": "stdout",
          "text": [
            "08:05:45\n"
          ]
        }
      ]
    },
    {
      "cell_type": "code",
      "source": [
        "# print maximum prime number\n",
        "import math\n",
        "\n",
        "def maximum_prime(n):\n",
        "  maxPrime=-1\n",
        "  while n%2==0:\n",
        "    maxPrime=2\n",
        "    n>>=1\n",
        "  \n",
        "  for i in range(3,int(math.sqrt(n))+1,2):\n",
        "    while n%i==0:\n",
        "      maxPrime=1\n",
        "      n=n/i\n",
        "  if n > 2:\n",
        "    maxPrime=n\n",
        "\n",
        "  return int(maxPrime)\n",
        "\n",
        "print(maximum_prime(12))"
      ],
      "metadata": {
        "colab": {
          "base_uri": "https://localhost:8080/"
        },
        "id": "23xCxR2BoCBU",
        "outputId": "07d22fa4-0a31-4014-ed7c-cc55d2116bba"
      },
      "execution_count": null,
      "outputs": [
        {
          "output_type": "stream",
          "name": "stdout",
          "text": [
            "3\n"
          ]
        }
      ]
    },
    {
      "cell_type": "code",
      "source": [
        "def Fibonacci(n): \n",
        "  if n<0: \n",
        "    print(\"Incorrect input\") \n",
        "  # First Fibonacci number is 0 \n",
        "  elif n==1: \n",
        "    return 0\n",
        "  # Second Fibonacci number is 1 \n",
        "  elif n==2: \n",
        "    return 1\n",
        "  else: \n",
        "    return Fibonacci(n-1)+Fibonacci(n-2)\n",
        "\n",
        "print(Fibonacci(9))"
      ],
      "metadata": {
        "colab": {
          "base_uri": "https://localhost:8080/"
        },
        "id": "dQWWLaysp6y2",
        "outputId": "e43c4551-e656-401e-d3b1-4bca8cac99ba"
      },
      "execution_count": null,
      "outputs": [
        {
          "output_type": "stream",
          "name": "stdout",
          "text": [
            "21\n"
          ]
        }
      ]
    },
    {
      "cell_type": "code",
      "source": [
        "#rotate list w.r.t given position\n",
        "def rotate(ele,pos,n):\n",
        "  if(pos>n):\n",
        "    new_pos=pos%n\n",
        "    return(ele[new_pos:n]+ele[0:new_pos])\n",
        "  else:\n",
        "    return(ele[pos:n]+ele[0:pos])\n",
        "\n",
        "\n",
        "newList = [12, 35, 9, 56, 24]\n",
        "print(rotate(newList,2,len(newList)))"
      ],
      "metadata": {
        "colab": {
          "base_uri": "https://localhost:8080/"
        },
        "id": "1-RN70BauQUk",
        "outputId": "22e8d14b-e511-462e-e591-126a9b8a1ace"
      },
      "execution_count": null,
      "outputs": [
        {
          "output_type": "stream",
          "name": "stdout",
          "text": [
            "[9, 56, 24, 12, 35]\n"
          ]
        }
      ]
    },
    {
      "cell_type": "code",
      "source": [
        "def spilt(ele,pos,n):\n",
        "  b = ele[:pos]\n",
        "  return(ele[pos::]+b[::])  \n",
        "newList = [12, 35, 9, 56, 24]\n",
        "print(spilt(newList,2,len(newList)))"
      ],
      "metadata": {
        "colab": {
          "base_uri": "https://localhost:8080/"
        },
        "id": "7H3g4K2MvxTM",
        "outputId": "87a6c9ca-a57d-4e19-e92d-89b824f32526"
      },
      "execution_count": null,
      "outputs": [
        {
          "output_type": "stream",
          "name": "stdout",
          "text": [
            "[9, 56, 24, 12, 35]\n"
          ]
        }
      ]
    },
    {
      "cell_type": "code",
      "source": [
        "#Reconstruct the array by replacing arr[i] with (arr[i-1]+1) % M\n",
        "def rearrange(a,m,n):\n",
        "  ind = 0\n",
        "  print(a,m,n)\n",
        "\n",
        "  for i in range(n):\n",
        "        if (a[i]!=-1):\n",
        "            ind = i\n",
        "          \n",
        "  print(ind)\n",
        "  \n",
        "  for i in range(ind-1, -1, -1):\n",
        "    print(a[i],end=\" \")\n",
        "    if(a[i]==-1):\n",
        "      a[i]=(a[i + 1]-1 + m)% m\n",
        "  print(\"\\n\")\n",
        "  for i in range(ind+1,1):\n",
        "    print(a[i],end=\" \")\n",
        "    if(a[i]==-1):\n",
        "      a[i]=(a[i + 1]-1 + m)% m\n",
        "    \n",
        "  print(*a)\n",
        "\n",
        "a =[5, -1, -1, 1, 2, 3]\n",
        "rearrange(a,7,len(a))"
      ],
      "metadata": {
        "colab": {
          "base_uri": "https://localhost:8080/"
        },
        "id": "3Q-cCDtUxqLE",
        "outputId": "d15e93e5-02bc-4ca5-e21d-3db353cc3497"
      },
      "execution_count": null,
      "outputs": [
        {
          "output_type": "stream",
          "name": "stdout",
          "text": [
            "[5, -1, -1, 1, 2, 3] 7 6\n",
            "5\n",
            "2 1 -1 -1 5 \n",
            "\n",
            "5 6 0 1 2 3\n"
          ]
        }
      ]
    },
    {
      "cell_type": "code",
      "source": [
        "def mono(ele):\n",
        "  return all(ele[i]<= ele[i+1] for i in range(len(ele)-1))\n",
        "\n",
        "a =[7,2,8,5,11]\n",
        "b=[2,2,3,4,5,66]\n",
        "print(mono(a))\n",
        "print(mono(b))"
      ],
      "metadata": {
        "colab": {
          "base_uri": "https://localhost:8080/"
        },
        "id": "6Jf5opFC0nZj",
        "outputId": "f72fccdc-e37c-4404-a5b3-6a30bee57a9d"
      },
      "execution_count": null,
      "outputs": [
        {
          "output_type": "stream",
          "name": "stdout",
          "text": [
            "False\n",
            "True\n"
          ]
        }
      ]
    },
    {
      "cell_type": "code",
      "source": [
        "#swap\n",
        "newList = [3,3,55,6,12,87]\n",
        "a,*b,c=newList\n",
        "print(a,b,c)"
      ],
      "metadata": {
        "colab": {
          "base_uri": "https://localhost:8080/"
        },
        "id": "hw0F9uo-2aFi",
        "outputId": "a7fdd911-bd52-407c-d6c7-b5d94e073fcd"
      },
      "execution_count": null,
      "outputs": [
        {
          "output_type": "stream",
          "name": "stdout",
          "text": [
            "3 [3, 55, 6, 12] 87\n"
          ]
        }
      ]
    },
    {
      "cell_type": "code",
      "source": [
        "#perfect numbers\n",
        "\n",
        "def perfect(n):\n",
        "  sum = 0\n",
        "  for i in range(1,n-1):\n",
        "    if(n%i==0):\n",
        "      sum = sum +i\n",
        "\n",
        "  if(sum==n):\n",
        "    print(\"perfect\")\n",
        "  else:\n",
        "    print(\"not perfect\")\n",
        "\n",
        "perfect(6)"
      ],
      "metadata": {
        "colab": {
          "base_uri": "https://localhost:8080/"
        },
        "id": "9Yl3UYTb3D4k",
        "outputId": "f2cd926a-8e3f-404d-97c8-24032ad873e3"
      },
      "execution_count": null,
      "outputs": [
        {
          "output_type": "stream",
          "name": "stdout",
          "text": [
            "perfect\n"
          ]
        }
      ]
    },
    {
      "cell_type": "code",
      "source": [
        "#Prime numbers in a given range\n",
        "\n",
        "def Prime(n):\n",
        "  if(n==1 or n==0):\n",
        "    return False\n",
        "  for i in range(2,n):\n",
        "    if(n%i==0):\n",
        "      return False\n",
        "\n",
        "  return True\n",
        "\n",
        "for i in range(10,50):\n",
        "  if(Prime(i)):\n",
        "    print(i)"
      ],
      "metadata": {
        "colab": {
          "base_uri": "https://localhost:8080/"
        },
        "id": "FxrdMW6V3oFL",
        "outputId": "dc874ca1-7a5c-4a86-b3eb-0a76d4acdc0b"
      },
      "execution_count": null,
      "outputs": [
        {
          "output_type": "stream",
          "name": "stdout",
          "text": [
            "11\n",
            "13\n",
            "17\n",
            "19\n",
            "23\n",
            "29\n",
            "31\n",
            "37\n",
            "41\n",
            "43\n",
            "47\n"
          ]
        }
      ]
    },
    {
      "cell_type": "code",
      "source": [
        "#Given a range to find fibo numbers\n",
        "import math\n",
        "\n",
        "def perfect(n):\n",
        "  s=int(math.sqrt(n))\n",
        "  return n == s*s\n",
        "\n",
        "def fibo(n):\n",
        "  return(perfect(5*n*n-4))\n",
        "\n",
        "for i in range(1,40):\n",
        "  if(fibo(i)):\n",
        "    print(\"fibo\",i)"
      ],
      "metadata": {
        "colab": {
          "base_uri": "https://localhost:8080/"
        },
        "id": "hL6sNx6D4npg",
        "outputId": "abeff0c5-1417-46fd-d308-b4a5bae0dc93"
      },
      "execution_count": null,
      "outputs": [
        {
          "output_type": "stream",
          "name": "stdout",
          "text": [
            "fibo 1\n",
            "fibo 2\n",
            "fibo 5\n",
            "fibo 13\n",
            "fibo 34\n"
          ]
        }
      ]
    },
    {
      "cell_type": "code",
      "source": [
        "# print nth position of kth number fibo\n",
        "def fibo_pos(k,n):\n",
        "  f1=0\n",
        "  f2=1\n",
        "  i=2\n",
        "  while i!=0:\n",
        "    f3=f1+f2\n",
        "    f1=f2\n",
        "    f2=f3\n",
        "    if f2%k==0:\n",
        "      return i*n\n",
        "    i=i+1\n",
        "  return\n",
        "\n",
        "print(fibo_pos(4,5))"
      ],
      "metadata": {
        "colab": {
          "base_uri": "https://localhost:8080/"
        },
        "id": "_I3WfQTY7B8q",
        "outputId": "51f2b47b-d0e2-49ff-884a-07231e1537c7"
      },
      "execution_count": null,
      "outputs": [
        {
          "output_type": "stream",
          "name": "stdout",
          "text": [
            "30\n"
          ]
        }
      ]
    },
    {
      "cell_type": "code",
      "source": [
        "#ascii\n",
        "\n",
        "print(ord('f'))"
      ],
      "metadata": {
        "colab": {
          "base_uri": "https://localhost:8080/"
        },
        "id": "X-X_zwUG97Ib",
        "outputId": "3fa4663f-cb9c-4837-d4ff-807128959eaa"
      },
      "execution_count": null,
      "outputs": [
        {
          "output_type": "stream",
          "name": "stdout",
          "text": [
            "102\n"
          ]
        }
      ]
    },
    {
      "cell_type": "code",
      "source": [
        "#list to string and vice versa\n",
        "name = [\"Xavier\",\"Emmanuel\"]\n",
        "str1=\"\"\n",
        "for i in name:\n",
        "  str1+=i\n",
        "print(str1)\n",
        "print(str1.split(\" \"))"
      ],
      "metadata": {
        "colab": {
          "base_uri": "https://localhost:8080/"
        },
        "id": "8qeEqPjL-j2g",
        "outputId": "25a7e2b2-1821-4c0d-9dd5-50b6337af125"
      },
      "execution_count": null,
      "outputs": [
        {
          "output_type": "stream",
          "name": "stdout",
          "text": [
            "XavierEmmanuel\n",
            "['XavierEmmanuel']\n"
          ]
        }
      ]
    },
    {
      "cell_type": "code",
      "source": [
        "#to add a char to make it lexicographically minimum\n",
        "def smallstring(ele,c):\n",
        "  i=0\n",
        "  while(i<len(ele)):\n",
        "    if(ele[i]>c):\n",
        "      ele= ele[:i]+c+ele[i:]\n",
        "      return i,ele\n",
        "\n",
        "    i=i+1\n",
        "\n",
        "  ele =ele +c\n",
        "  return i,ele\n",
        "\n",
        "print(smallstring(\"abd\",'c'))"
      ],
      "metadata": {
        "colab": {
          "base_uri": "https://localhost:8080/"
        },
        "id": "8SXVKbs-_H5s",
        "outputId": "9adc7667-3fe3-4d36-f6bc-72ee1f902ec3"
      },
      "execution_count": null,
      "outputs": [
        {
          "output_type": "stream",
          "name": "stdout",
          "text": [
            "(2, 'abcd')\n"
          ]
        }
      ]
    },
    {
      "cell_type": "code",
      "source": [
        "#k large elements\n",
        "def klarge(ele,k):\n",
        "  ele.sort(reverse=True)\n",
        "  for i in range(k):\n",
        "    print(ele[i])\n",
        "\n",
        "a = [22,4,32,100,10]\n",
        "klarge(a,4)"
      ],
      "metadata": {
        "colab": {
          "base_uri": "https://localhost:8080/"
        },
        "id": "fA0EQ2s6F3Sx",
        "outputId": "3d176152-d304-4304-c368-0bd1e55c8a5c"
      },
      "execution_count": null,
      "outputs": [
        {
          "output_type": "stream",
          "name": "stdout",
          "text": [
            "100\n",
            "32\n",
            "22\n",
            "10\n"
          ]
        }
      ]
    },
    {
      "cell_type": "code",
      "source": [
        "def findPlatform(arr, dep, n):\n",
        "    plat_needed = 1\n",
        "    result = 1\n",
        " \n",
        "    # run a nested loop to find overlap\n",
        "    for i in range(n):\n",
        "        # minimum platform needed\n",
        "        plat_needed = 1\n",
        " \n",
        "        for j in range(i+1, n):\n",
        "            # check for overlap\n",
        "            if (max(arr[i], arr[j]) <= min(dep[i], dep[j])):\n",
        "                plat_needed += 1\n",
        " \n",
        "        # update result\n",
        "        result = max(result, plat_needed)\n",
        " \n",
        "    return result\n",
        " \n",
        "# Driver code\n",
        " \n",
        " \n",
        "def main():\n",
        "    arr = [900, 940, 950, 1100, 1500, 1800]\n",
        "    dep = [910, 1200, 1120, 1130, 1900, 2000]\n",
        " \n",
        "    n = len(arr)\n",
        " \n",
        "    print(\"{}\".format(\n",
        "        findPlatform(arr, dep, n)))\n",
        " \n",
        " \n",
        "if __name__ == '__main__':\n",
        "    main()"
      ],
      "metadata": {
        "colab": {
          "base_uri": "https://localhost:8080/"
        },
        "id": "GrXePaRYG1eo",
        "outputId": "715baa64-ff3a-4ed6-8d78-f7b02463644c"
      },
      "execution_count": null,
      "outputs": [
        {
          "output_type": "stream",
          "name": "stdout",
          "text": [
            "3\n"
          ]
        }
      ]
    },
    {
      "cell_type": "code",
      "source": [
        "#printing subsequence\n",
        "\n",
        "def sub(input,output):\n",
        "  sublist=[]\n",
        "  if len(input)==0:\n",
        "    \n",
        "    print(output)\n",
        "    sublist.extend(output)\n",
        "    return\n",
        "\n",
        "  sub(input[1:],output+input[0])\n",
        "  sub(input[1:],output)\n",
        "  return sublist\n",
        "\n",
        "input = \"xavier\"\n",
        "output = \"\"\n",
        "\n",
        "v=sub(input,output)\n",
        "print(v)"
      ],
      "metadata": {
        "colab": {
          "base_uri": "https://localhost:8080/"
        },
        "id": "5dqefDQ9mGwX",
        "outputId": "75778663-4158-4a09-b9dc-76ab6e9b3b2e"
      },
      "execution_count": null,
      "outputs": [
        {
          "output_type": "stream",
          "name": "stdout",
          "text": [
            "xavier\n",
            "xavie\n",
            "xavir\n",
            "xavi\n",
            "xaver\n",
            "xave\n",
            "xavr\n",
            "xav\n",
            "xaier\n",
            "xaie\n",
            "xair\n",
            "xai\n",
            "xaer\n",
            "xae\n",
            "xar\n",
            "xa\n",
            "xvier\n",
            "xvie\n",
            "xvir\n",
            "xvi\n",
            "xver\n",
            "xve\n",
            "xvr\n",
            "xv\n",
            "xier\n",
            "xie\n",
            "xir\n",
            "xi\n",
            "xer\n",
            "xe\n",
            "xr\n",
            "x\n",
            "avier\n",
            "avie\n",
            "avir\n",
            "avi\n",
            "aver\n",
            "ave\n",
            "avr\n",
            "av\n",
            "aier\n",
            "aie\n",
            "air\n",
            "ai\n",
            "aer\n",
            "ae\n",
            "ar\n",
            "a\n",
            "vier\n",
            "vie\n",
            "vir\n",
            "vi\n",
            "ver\n",
            "ve\n",
            "vr\n",
            "v\n",
            "ier\n",
            "ie\n",
            "ir\n",
            "i\n",
            "er\n",
            "e\n",
            "r\n",
            "\n",
            "[]\n"
          ]
        }
      ]
    },
    {
      "cell_type": "code",
      "source": [
        "#to find the next element in the set of permutations\n",
        "from itertools import permutations\n",
        "a=\"abv\"\n",
        "co=0\n",
        "p=permutations(a)\n",
        "\n",
        "print(p)\n",
        "k=[]\n",
        "for i in (p):\n",
        "  k.append(''.join([str(elem) for elem in i]))\n",
        "print(k)\n",
        "\n",
        "for i in range(len(k)):\n",
        "  if(k[i]==\"abv\"):\n",
        "    co=i+1\n",
        "print(k[co])\n"
      ],
      "metadata": {
        "colab": {
          "base_uri": "https://localhost:8080/"
        },
        "id": "v18EZuaEdbb3",
        "outputId": "7422547a-03da-44f8-9d42-40aa576eba19"
      },
      "execution_count": null,
      "outputs": [
        {
          "output_type": "stream",
          "name": "stdout",
          "text": [
            "<itertools.permutations object at 0x7f48ffd94dd0>\n",
            "['abv', 'avb', 'bav', 'bva', 'vab', 'vba']\n",
            "avb\n"
          ]
        }
      ]
    },
    {
      "cell_type": "code",
      "source": [
        "class Node:\n",
        "  def __init__(self,data):\n",
        "    self.data = data\n",
        "    self.next = None\n",
        "\n",
        "class LinkedList:\n",
        "  def __init__(self):\n",
        "    self.head = None\n",
        "  def display(self,node):\n",
        "    temp = node\n",
        "    while(temp):\n",
        "      print(temp.data,end=\" \")\n",
        "      temp = temp.next\n",
        "\n",
        "\n",
        "L1 = LinkedList()\n",
        "L1.head = Node(1)\n",
        "second = Node(2)\n",
        "third = Node (3)\n",
        "L1.head.next=second\n",
        "second.next = third\n",
        "L1.display(L1.head)"
      ],
      "metadata": {
        "id": "7LbvDLD8g9AT",
        "outputId": "15dffc72-7a2f-41f2-9207-15ad3d5f85de",
        "colab": {
          "base_uri": "https://localhost:8080/"
        }
      },
      "execution_count": 13,
      "outputs": [
        {
          "output_type": "stream",
          "name": "stdout",
          "text": [
            "1 2 3 "
          ]
        }
      ]
    },
    {
      "cell_type": "code",
      "source": [
        "class Node:\n",
        "  def __init__(self,data):\n",
        "    self.data = data\n",
        "    self.next=None\n",
        "\n",
        "class LinkedList:\n",
        "  def __init__(self):\n",
        "    self.head = None\n",
        "\n",
        "  def push(self,new_data):\n",
        "    new_node = Node(new_data)\n",
        "    new_node.next = self.head\n",
        "    self.head = new_node\n",
        "\n",
        "  def display(self):\n",
        "    temp=self.head\n",
        "    while(temp):\n",
        "      print(temp.data)\n",
        "      temp=temp.next\n",
        "\n",
        "L1 = LinkedList()\n",
        "L1.push(5)\n",
        "L1.display()\n",
        "L1.push(6)\n",
        "# L1.display()"
      ],
      "metadata": {
        "id": "5HR0WYgNl9Cp",
        "outputId": "6f796eea-37e0-4cd3-f3d3-519a2a78c5be",
        "colab": {
          "base_uri": "https://localhost:8080/"
        }
      },
      "execution_count": 19,
      "outputs": [
        {
          "output_type": "stream",
          "name": "stdout",
          "text": [
            "5\n"
          ]
        }
      ]
    },
    {
      "cell_type": "code",
      "source": [
        "class Node:\n",
        "  def __init__(self,data):\n",
        "    self.data = data\n",
        "    self.head = None\n",
        "  \n",
        "class LinkedList:\n",
        "  def __init__(self):\n",
        "    self.head = None\n",
        "  def push(self,new_data):\n",
        "    new_node=Node(new_data)\n",
        "    new_node.next = self.head\n",
        "    self.head=new_node\n",
        "  def display(self):\n",
        "    temp = self.head\n",
        "    while temp:\n",
        "      print(temp.data,end=\" \")\n",
        "      temp=temp.next\n",
        "  def delete(self,key):\n",
        "    temp = self.head\n",
        "    if temp is not None:\n",
        "      if temp.data==key:\n",
        "        self.head=temp.next \n",
        "        temp = None\n",
        "    while(temp is not None):\n",
        "      if(temp.data==key):\n",
        "        break\n",
        "      prev = temp\n",
        "      temp = temp.next\n",
        "    \n",
        "    if temp==None:\n",
        "      return\n",
        "    prev.next=temp.next\n",
        "    temp=None\n",
        "\n",
        "L1=LinkedList()\n",
        "L1.push(5)\n",
        "L1.push(88)\n",
        "L1.push(55)\n",
        "L1.push(7)\n",
        "L1.display()\n",
        "L1.delete(88)\n",
        "print(\"\\n\")\n",
        "L1.display()"
      ],
      "metadata": {
        "id": "oqmsFP8tqV5P",
        "outputId": "a7118bdd-0b53-41f4-ebc1-bce0bbc6dda8",
        "colab": {
          "base_uri": "https://localhost:8080/"
        }
      },
      "execution_count": 22,
      "outputs": [
        {
          "output_type": "stream",
          "name": "stdout",
          "text": [
            "7 55 88 5 \n",
            "\n",
            "7 55 5 "
          ]
        }
      ]
    },
    {
      "cell_type": "markdown",
      "source": [
        "## Intuit"
      ],
      "metadata": {
        "id": "mfV7zTeXdcUm"
      }
    },
    {
      "cell_type": "code",
      "source": [
        "# take 2 LL, and merge them reversely\n",
        "\n",
        "class Node:\n",
        "  def __init__(self,next=None,data=None):\n",
        "    self.next = next\n",
        "    self.data = data\n",
        "\n",
        "def sortedLL(a,b):\n",
        "  if(a == None and b == None):\n",
        "    return \n",
        "  \n",
        "  res = None\n",
        "  while(a!=None and b !=None):\n",
        "    if(a.key <= b.key):\n",
        "      temp = a.next\n",
        "      a.next = res\n",
        "      res=a\n",
        "      a=temp\n",
        "\n",
        "    else:\n",
        "      temp=b.next\n",
        "      b.next=res\n",
        "      res=b\n",
        "      b=temp\n",
        "    \n",
        "  while(a!=None):\n",
        "    temp = a.next\n",
        "    a.next = res\n",
        "    res=a\n",
        "    a=temp\n",
        "\n",
        "  while(b!=None):\n",
        "    temp=b.next\n",
        "    b.next=res\n",
        "    res=b\n",
        "    b=temp\n",
        "  \n",
        "  return res\n",
        "\n",
        "def printList(Node):\n",
        "  while(Node!=None):\n",
        "    print(Node.key,end=\" \")\n",
        "    Node=Node.next\n",
        "\n",
        "def NewNode(key):\n",
        "  temp = Node()\n",
        "  temp.key = key\n",
        "  temp.next=None\n",
        "  return temp\n",
        "\n",
        "res=None\n",
        "\n",
        "a=NewNode(4)\n",
        "a.next=NewNode(8)\n",
        "a.next.next=NewNode(12)\n",
        "a.next.next.next=NewNode(2)\n",
        "\n",
        "printList(a)\n",
        "print(\"\\n\")\n",
        "b=NewNode(111)\n",
        "b.next=NewNode(88)\n",
        "printList(b)\n",
        "\n",
        "res=sortedLL(a,b)\n",
        "print(\"\\n\")\n",
        "printList(res)\n"
      ],
      "metadata": {
        "colab": {
          "base_uri": "https://localhost:8080/"
        },
        "id": "VnwHFji5XqHm",
        "outputId": "ee71b7ea-ccbf-4cd5-810a-0d929db777bb"
      },
      "execution_count": null,
      "outputs": [
        {
          "output_type": "stream",
          "name": "stdout",
          "text": [
            "4 8 12 2 \n",
            "\n",
            "111 88 \n",
            "\n",
            "88 111 2 12 8 4 "
          ]
        }
      ]
    }
  ]
}