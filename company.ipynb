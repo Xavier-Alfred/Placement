{
  "nbformat": 4,
  "nbformat_minor": 0,
  "metadata": {
    "colab": {
      "name": "company",
      "provenance": [],
      "authorship_tag": "ABX9TyOgZuW8EuvuVVmA6lPYdO+h",
      "include_colab_link": true
    },
    "kernelspec": {
      "name": "python3",
      "display_name": "Python 3"
    },
    "language_info": {
      "name": "python"
    }
  },
  "cells": [
    {
      "cell_type": "markdown",
      "metadata": {
        "id": "view-in-github",
        "colab_type": "text"
      },
      "source": [
        "<a href=\"https://colab.research.google.com/github/Xavier-Alfred/Placement/blob/main/company.ipynb\" target=\"_parent\"><img src=\"https://colab.research.google.com/assets/colab-badge.svg\" alt=\"Open In Colab\"/></a>"
      ]
    },
    {
      "cell_type": "code",
      "execution_count": 6,
      "metadata": {
        "colab": {
          "base_uri": "https://localhost:8080/"
        },
        "id": "kLjhD7wSrKb1",
        "outputId": "81bbde94-d08f-4662-a886-6d2f36e94696"
      },
      "outputs": [
        {
          "output_type": "stream",
          "name": "stdout",
          "text": [
            "20\n",
            "6\n"
          ]
        }
      ],
      "source": [
        "N = int(input())\n",
        "if N>=11:\n",
        "  n = N//11\n",
        "  pos = (n+1)*2\n",
        "  rem = ((n+1)*11) - N\n",
        "  print(pos+rem)\n",
        "else:\n",
        "  num = 11 - N\n",
        "  print(num)  \n"
      ]
    },
    {
      "cell_type": "code",
      "source": [
        "\n"
      ],
      "metadata": {
        "colab": {
          "base_uri": "https://localhost:8080/"
        },
        "id": "CFV5sLTjYeHH",
        "outputId": "d162c0fb-1ade-464a-de61-63bf73207746"
      },
      "execution_count": 4,
      "outputs": [
        {
          "output_type": "execute_result",
          "data": {
            "text/plain": [
              "3"
            ]
          },
          "metadata": {},
          "execution_count": 4
        }
      ]
    }
  ]
}